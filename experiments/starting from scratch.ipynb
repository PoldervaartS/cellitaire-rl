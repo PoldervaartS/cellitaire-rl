{
 "cells": [
  {
   "cell_type": "code",
   "execution_count": 1,
   "id": "380a3506-4c1e-4d1c-a140-edbd1a289797",
   "metadata": {},
   "outputs": [
    {
     "name": "stdout",
     "output_type": "stream",
     "text": [
      "pygame 2.6.1 (SDL 2.28.4, Python 3.13.2)\n",
      "Hello from the pygame community. https://www.pygame.org/contribute.html\n"
     ]
    }
   ],
   "source": [
    "from cellitaire.environment.agents.PPOAgent import Agent\n",
    "from cellitaire.environment.cellitaire_env import CellitaireEnv\n",
    "from cellitaire.environment.rewards.reward import *\n",
    "from cellitaire.environment.rewards.foundation_rewards import *\n",
    "import numpy as np\n",
    "\n",
    "board_rows = 7\n",
    "board_cols = 12\n",
    "num_reserved = 6\n",
    "test_reward = CombinedReward([\n",
    "    #PlacedCardInFoundationReward(weight=6),\n",
    "    WinReward(weight=100, rows=board_rows, cols=board_cols),\n",
    "    #ConstantReward(weight=0.5),\n",
    "    ScalingPlacedCardInFoundationReward(weight=1, rows=board_rows, cols=board_cols),\n",
    "    #PlayedLegalMoveReward(weight=1, rows=board_rows, cols=board_cols, num_reserved = num_reserved),\n",
    "    #PeriodicPlacedCardInFoundationReward(weight=4, reward_period=3),\n",
    "    #CreatedMovesReward(weight=1, num_reserved=num_reserved, foundation_count_dropoff=30)\n",
    "])\n",
    "env = CellitaireEnv(test_reward, rows=board_rows, cols=board_cols, num_reserved=num_reserved, max_moves=1200, max_illegal_moves=1200)\n",
    "#env.render()\n",
    "\n",
    "#agent = Agent(n_actions=env.action_space.n, batch_size=batch_size, \n",
    "#                alpha=alpha, n_epochs=n_epochs, \n",
    "#                input_dims=env.observation_space.shape)\n",
    "\n",
    "N = 10000\n",
    "batch_size = 2000\n",
    "n_epochs = 5\n",
    "alpha = 4e-4\n",
    "gamma = 0.99\n",
    "gae_lambda = 0.99\n",
    "checkpoint_dir = 'tmp/scratch_higher_lambda'\n",
    "agent = Agent(n_actions=env.action_space.n, \n",
    "    input_dims=(board_rows * board_cols * 4 + 6,), batch_size=batch_size, fc1_actor=2048, fc2_actor=2048, fc1_critic=4096, fc2_critic=4096,\n",
    "                alpha=alpha, n_epochs=n_epochs, gamma=gamma, gae_lambda=gae_lambda, checkpoint_dir=checkpoint_dir)\n",
    "\n",
    "normalize_reward = True\n",
    "save_model = True"
   ]
  },
  {
   "cell_type": "code",
   "execution_count": 2,
   "id": "ad597001-d834-45f1-9735-5fbf985b9614",
   "metadata": {},
   "outputs": [],
   "source": [
    "env.action_space.n = board_rows * board_cols"
   ]
  },
  {
   "cell_type": "code",
   "execution_count": null,
   "id": "594d9b10-ed79-4cef-b951-e3238aae4d1f",
   "metadata": {},
   "outputs": [
    {
     "name": "stdout",
     "output_type": "stream",
     "text": [
      "... loading models ...\n"
     ]
    }
   ],
   "source": [
    "import os\n",
    "\n",
    "try:\n",
    "    agent.load_models()\n",
    "except:\n",
    "    print('New run, godspeed lad')\n",
    "    os.mkdir(checkpoint_dir)\n",
    "n_games = 300\n",
    "\n",
    "best_score = 4.0\n",
    "score_history = []\n",
    "cards_saved_history = []\n",
    "max_score = 0\n",
    "max_cards_saved = 0\n",
    "episodes_without_best = 0\n",
    "\n",
    "learn_iters = 0\n",
    "avg_score = 0\n",
    "n_steps = 0\n",
    "i = 0\n",
    "while True:\n",
    "    env.reset()\n",
    "    observation = env.get_state()\n",
    "    done = False\n",
    "    truncated = False\n",
    "    score = 0\n",
    "    while not done and not truncated:\n",
    "        action, prob, val = agent.choose_legal_action_mostly(observation, env.get_legal_actions_as_int())\n",
    "        observation_, reward, done, truncated, info = env.step(action)\n",
    "        n_steps += 1\n",
    "        if normalize_reward:\n",
    "            score += reward / env.reward.max_reward\n",
    "        else:\n",
    "            score += reward\n",
    "        agent.remember(observation, action, prob, val, reward, done)\n",
    "        if n_steps % N == 0:\n",
    "            agent.learn()\n",
    "            learn_iters += 1\n",
    "        observation = observation_\n",
    "    i += 1\n",
    "    score_history.append(score)\n",
    "    cards_saved = env.game.foundation.total_cards()\n",
    "    cards_saved_history.append(cards_saved)\n",
    "    avg_score = np.mean(score_history[-100:])\n",
    "    recent_max = np.max(score_history[-110:])\n",
    "    avg_cards_saved = np.mean(cards_saved_history[-100:])\n",
    "    recent_max_cs = np.max(cards_saved_history[-100:])\n",
    "\n",
    "    max_score = max(max_score, score)\n",
    "    max_cards_saved = max(max_cards_saved, cards_saved)\n",
    "    \n",
    "    if avg_score > best_score and n_steps > N:\n",
    "        best_score = avg_score\n",
    "        recent_std = np.std(score_history[-100:])\n",
    "        if save_model:\n",
    "            agent.save_models()\n",
    "        episodes_without_best = 0\n",
    "        print(f'episode {i:>5} | score {score:>6.1f} | avg s {avg_score:>6.1f} | max s R {recent_max:>5.1f} | max s A {max_score:>5.1f} | avg cs {avg_cards_saved:>4.1f} | max cs R {recent_max_cs:>2.0f} | max cs A {max_cards_saved:>2.0f} | ls {learn_iters:>5} *')\n",
    "    else:\n",
    "        episodes_without_best += 1\n",
    "        \n",
    "    if episodes_without_best % 100 == 0 and episodes_without_best > 0:\n",
    "        recent_std = np.std(score_history[-100:])\n",
    "        print(f'episode {i:>5} | score {score:>6.1f} | avg s {avg_score:>6.1f} | max s R {recent_max:>5.1f} | max s A {max_score:>5.1f} | avg cs {avg_cards_saved:>4.1f} | max cs R {recent_max_cs:>2.0f} | max cs A {max_cards_saved:>2.0f} | ls {learn_iters:>5}')"
   ]
  },
  {
   "cell_type": "code",
   "execution_count": null,
   "id": "7f9c8dfd-b7c8-4c22-97bf-63e7c9fdf01a",
   "metadata": {},
   "outputs": [],
   "source": [
    "import gymnasium as gym\n",
    "import numpy as np\n",
    "\n",
    "env = gym.make('CartPole-v1', render_mode='human')\n",
    "N = 20\n",
    "batch_size = 5\n",
    "n_epochs = 4\n",
    "alpha = 0.0003\n",
    "agent = Agent(n_actions=env.action_space.n, batch_size=batch_size, \n",
    "                alpha=alpha, n_epochs=n_epochs, \n",
    "                input_dims=env.observation_space.shape)\n",
    "n_games = 300\n",
    "\n",
    "figure_file = 'plots/cartpole.png'\n",
    "\n",
    "best_score = -1000\n",
    "score_history = []\n",
    "max_score = 0\n",
    "episodes_without_best = 0\n",
    "\n",
    "\n",
    "learn_iters = 0\n",
    "avg_score = 0\n",
    "n_steps = 0\n",
    "\n",
    "for i in range(n_games):\n",
    "    observation = env.reset()[0]\n",
    "    done = False\n",
    "    truncated = False\n",
    "    score = 0\n",
    "    while not done and not truncated:\n",
    "        action, prob, val = agent.choose_action(observation)\n",
    "        observation_, reward, done, truncated, info = env.step(action)\n",
    "        n_steps += 1\n",
    "        score += reward\n",
    "        agent.remember(observation, action, prob, val, reward, done)\n",
    "        if n_steps % N == 0:\n",
    "            agent.learn()\n",
    "            learn_iters += 1\n",
    "        observation = observation_\n",
    "    score_history.append(score)\n",
    "    avg_score = np.mean(score_history[-100:])\n",
    "    \n",
    "    max_score = max(max_score, score)\n",
    "    \n",
    "    if avg_score > best_score:\n",
    "        best_score = avg_score\n",
    "        recent_std = np.std(score_history[-100:])\n",
    "        agent.save_models()\n",
    "        episodes_without_best = 0\n",
    "        print(f'episode {i:>5} | score {score:>6.1f} | avg {avg_score:>6.1f} | std {recent_std:>6.2f} | max score {max_score:>5.1f} | learning steps {learn_iters:>5} | done {done} *')\n",
    "    else:\n",
    "        episodes_without_best += 1\n",
    "        \n",
    "    if episodes_without_best % 100 == 0 and episodes_without_best > 0:\n",
    "        recent_std = np.std(score_history[-100:])\n",
    "        print(f'episode {i:>5} | score {score:>6.1f} | avg {avg_score:>6.1f} | std {recent_std:>6.2f} | max score {max_score:>5.1f} | learning steps {learn_iters:>5} | done {done}')\n"
   ]
  },
  {
   "cell_type": "code",
   "execution_count": null,
   "id": "f222f45a-23b4-4f58-8cce-0a2d1a882036",
   "metadata": {},
   "outputs": [],
   "source": []
  },
  {
   "cell_type": "code",
   "execution_count": null,
   "id": "625c3021-1088-4bd6-ab11-5b7fd0ff1e46",
   "metadata": {},
   "outputs": [],
   "source": [
    "env.close()"
   ]
  },
  {
   "cell_type": "code",
   "execution_count": null,
   "id": "e90f6def-34fe-498c-9a55-9b7e474a9bd3",
   "metadata": {},
   "outputs": [],
   "source": [
    "agent.save_models()"
   ]
  },
  {
   "cell_type": "code",
   "execution_count": null,
   "id": "b6497c2e-a29e-4cf4-85a1-7b9d5cd261cd",
   "metadata": {},
   "outputs": [],
   "source": [
    "demo_env.close()"
   ]
  },
  {
   "cell_type": "code",
   "execution_count": null,
   "id": "e4c7b1d6-a016-4a02-9c21-ee2bbeb70ff0",
   "metadata": {},
   "outputs": [],
   "source": [
    "%pip install -e ../."
   ]
  },
  {
   "cell_type": "code",
   "execution_count": null,
   "id": "128f990d-b97f-4e44-abfb-56cbee0ebf4f",
   "metadata": {},
   "outputs": [],
   "source": []
  }
 ],
 "metadata": {
  "kernelspec": {
   "display_name": "Python 3 (ipykernel)",
   "language": "python",
   "name": "python3"
  },
  "language_info": {
   "codemirror_mode": {
    "name": "ipython",
    "version": 3
   },
   "file_extension": ".py",
   "mimetype": "text/x-python",
   "name": "python",
   "nbconvert_exporter": "python",
   "pygments_lexer": "ipython3",
   "version": "3.13.2"
  }
 },
 "nbformat": 4,
 "nbformat_minor": 5
}
