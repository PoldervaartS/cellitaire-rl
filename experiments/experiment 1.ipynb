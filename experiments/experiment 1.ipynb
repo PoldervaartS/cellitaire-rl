{
 "cells": [
  {
   "cell_type": "code",
   "execution_count": 1,
   "id": "097718a2-6084-47c3-bff5-0cb825914fb1",
   "metadata": {},
   "outputs": [
    {
     "name": "stdout",
     "output_type": "stream",
     "text": [
      "pygame 2.6.1 (SDL 2.28.4, Python 3.13.2)\n",
      "Hello from the pygame community. https://www.pygame.org/contribute.html\n"
     ]
    }
   ],
   "source": [
    "from cellitaire.environment.agents.ppo_agent.agent import Agent\n",
    "from cellitaire.environment.cellitaire_env import CellitaireEnv\n",
    "from cellitaire.environment.rewards.reward import *\n",
    "from cellitaire.environment.rewards.foundation_rewards import *\n",
    "\n",
    "board_rows = 7\n",
    "board_cols = 12\n",
    "num_reserved = 6\n",
    "\n",
    "max_moves = 1200\n",
    "max_illegal_moves = 1200\n",
    "\n",
    "fc1_actor = 2048\n",
    "fc2_actor = 2048\n",
    "fc1_critic = 4096\n",
    "fc2_critic = 4096\n",
    "\n",
    "gamma = 0.99\n",
    "alpha = 4e-4\n",
    "gae_lambda = 0.95\n",
    "policy_clip = 0.2\n",
    "normalize_reward = False\n",
    "\n",
    "steps_per_learn_step = 10000\n",
    "batch_size = 2000\n",
    "n_epochs = 5\n",
    "\n",
    "checkpoint_dir = 'tmp/experiment_1'\n",
    "\n",
    "test_reward = CombinedReward([\n",
    "    WinReward(weight=100, rows=board_rows, cols=board_cols),\n",
    "    ScalingPlacedCardInFoundationReward(weight=1, rows=board_rows, cols=board_cols),\n",
    "])\n",
    "\n",
    "env = CellitaireEnv(\n",
    "    test_reward, \n",
    "    rows=board_rows, \n",
    "    cols=board_cols, \n",
    "    num_reserved=num_reserved,\n",
    "    max_moves=max_moves, \n",
    "    max_illegal_moves=max_illegal_moves\n",
    ")\n",
    "# Change once this actually works\n",
    "env.action_space.n = board_rows * board_cols\n",
    "\n",
    "agent = Agent(\n",
    "    n_actions=env.action_space.n, \n",
    "    input_dims=(board_rows * board_cols * 4 + 6,),\n",
    "    fc1_actor=fc1_actor,\n",
    "    fc2_actor=fc2_actor,\n",
    "    fc1_critic=fc1_critic,\n",
    "    fc2_critic=fc2_critic,\n",
    "    gamma=gamma,\n",
    "    alpha=alpha,\n",
    "    gae_lambda=gae_lambda,\n",
    "    policy_clip=policy_clip,\n",
    "    batch_size=batch_size,\n",
    "    n_epochs=n_epochs,\n",
    "    checkpoint_dir=checkpoint_dir\n",
    ")"
   ]
  },
  {
   "cell_type": "code",
   "execution_count": 2,
   "id": "1f6376cf-2810-46e6-a200-9c0ba512d5ee",
   "metadata": {},
   "outputs": [
    {
     "name": "stdout",
     "output_type": "stream",
     "text": [
      "New run, godspeed lad\n"
     ]
    }
   ],
   "source": [
    "from cellitaire.environment.agents.ppo_agent.trainer import AgentTrainer\n",
    "\n",
    "trainer = AgentTrainer(\n",
    "    agent = agent,\n",
    "    env = env,\n",
    "    checkpoint_dir = checkpoint_dir,\n",
    "    steps_per_learn_step = steps_per_learn_step,\n",
    "    batch_size = batch_size,\n",
    "    normalize_reward = normalize_reward\n",
    ")"
   ]
  },
  {
   "cell_type": "code",
   "execution_count": null,
   "id": "f20ba5e5-442c-47f4-a45f-7136433f2468",
   "metadata": {},
   "outputs": [
    {
     "name": "stdout",
     "output_type": "stream",
     "text": [
      "Current Episode     100: R Avg Score   77.1 | R Max Score  946 | R Avg CS  5.9 | R Max CS 43 | LS     1\n",
      "Current Episode     200: R Avg Score  104.4 | R Max Score  990 | R Avg CS  7.5 | R Max CS 44 | LS     2\n"
     ]
    }
   ],
   "source": [
    "trainer.train()"
   ]
  },
  {
   "cell_type": "code",
   "execution_count": null,
   "id": "43852fd9-0ee1-4fb4-b63a-7fa432c1fa99",
   "metadata": {},
   "outputs": [],
   "source": []
  }
 ],
 "metadata": {
  "kernelspec": {
   "display_name": "Python 3 (ipykernel)",
   "language": "python",
   "name": "python3"
  },
  "language_info": {
   "codemirror_mode": {
    "name": "ipython",
    "version": 3
   },
   "file_extension": ".py",
   "mimetype": "text/x-python",
   "name": "python",
   "nbconvert_exporter": "python",
   "pygments_lexer": "ipython3",
   "version": "3.13.2"
  }
 },
 "nbformat": 4,
 "nbformat_minor": 5
}
