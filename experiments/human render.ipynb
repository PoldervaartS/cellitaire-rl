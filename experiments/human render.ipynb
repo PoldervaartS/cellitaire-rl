{
 "cells": [
  {
   "cell_type": "code",
   "execution_count": 1,
   "id": "997d6080-b9ca-4954-aa17-5ade823c95f5",
   "metadata": {},
   "outputs": [
    {
     "name": "stdout",
     "output_type": "stream",
     "text": [
      "pygame 2.6.1 (SDL 2.28.4, Python 3.13.2)\n",
      "Hello from the pygame community. https://www.pygame.org/contribute.html\n"
     ]
    }
   ],
   "source": [
    "import pygame\n",
    "from cellitaire.environment.rewards.reward import *\n",
    "from cellitaire.environment.rewards.foundation_rewards import *\n",
    "from cellitaire.environment.cellitaire_env import CellitaireEnv\n",
    "from cellitaire.environment.ui.cellitaire_ui import CellitaireUI\n",
    "import random\n",
    "import time"
   ]
  },
  {
   "cell_type": "code",
   "execution_count": 2,
   "id": "a2813a85-a66c-4435-a641-c2c4aa90460c",
   "metadata": {},
   "outputs": [
    {
     "name": "stdout",
     "output_type": "stream",
     "text": [
      "[1000000, 0.5, 1]\n"
     ]
    }
   ],
   "source": [
    "board_rows = 7\n",
    "board_cols = 12\n",
    "num_reserved = 6\n",
    "test_reward = CombinedReward([\n",
    "    #PlacedCardInFoundationReward(weight=6),\n",
    "    WinReward(rows=board_rows, cols=board_cols),\n",
    "    ConstantReward(weight=0.5),\n",
    "    ScalingPlacedCardInFoundationReward(weight=1, rows=board_rows, cols=board_cols)\n",
    "    #PlayedLegalMoveReward(weight=1),\n",
    "    #PeriodicPlacedCardInFoundationReward(weight=4, reward_period=3),\n",
    "    #CreatedMovesReward(weight=1, num_reserved=num_reserved, foundation_count_dropoff=30)\n",
    "])\n",
    "print([reward.weight for reward in test_reward.rewards_list])\n",
    "env = CellitaireEnv(test_reward, rows=board_rows, cols=board_cols, num_reserved=num_reserved, max_moves=600, render_mode='human')\n",
    "env.render()"
   ]
  },
  {
   "cell_type": "code",
   "execution_count": null,
   "id": "6e567142-fbb6-4a18-9d43-211677630653",
   "metadata": {
    "scrolled": true
   },
   "outputs": [],
   "source": [
    "games_to_sim = 10\n",
    "\n",
    "rewards = []\n",
    "cards_saved = []\n",
    "game_scores = []\n",
    "move_counts = []\n",
    "\n",
    "games_played = 0\n",
    "while games_played < games_to_sim:\n",
    "    env.reset()\n",
    "    moves_played = 0\n",
    "    done = False\n",
    "    truncated = False\n",
    "    game_rewards = []\n",
    "\n",
    "    while not done and not truncated:\n",
    "        legal_actions = env.get_legal_actions_as_int()\n",
    "        action = random.choice(legal_actions)\n",
    "        _, reward, done, truncated, _ = env.step(action)\n",
    "        game_rewards.append(reward)\n",
    "        moves_played += 1\n",
    "    rewards.extend(game_rewards)\n",
    "    cards_saved.append(env.game.foundation.total_cards())\n",
    "    game_scores.append(sum(game_rewards))\n",
    "    move_counts.append(moves_played)\n",
    "    games_played += 1\n",
    "env.close()"
   ]
  },
  {
   "cell_type": "code",
   "execution_count": null,
   "id": "452f9863-56dd-4665-946a-8eb75e783a64",
   "metadata": {},
   "outputs": [],
   "source": [
    "%pip install -e ../."
   ]
  },
  {
   "cell_type": "code",
   "execution_count": null,
   "id": "e88e2612-3075-4fad-8805-63dcbb23bbe5",
   "metadata": {},
   "outputs": [],
   "source": []
  }
 ],
 "metadata": {
  "kernelspec": {
   "display_name": "Python 3 (ipykernel)",
   "language": "python",
   "name": "python3"
  },
  "language_info": {
   "codemirror_mode": {
    "name": "ipython",
    "version": 3
   },
   "file_extension": ".py",
   "mimetype": "text/x-python",
   "name": "python",
   "nbconvert_exporter": "python",
   "pygments_lexer": "ipython3",
   "version": "3.13.2"
  }
 },
 "nbformat": 4,
 "nbformat_minor": 5
}
