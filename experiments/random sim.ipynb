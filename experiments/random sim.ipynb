{
 "cells": [
  {
   "cell_type": "code",
   "execution_count": 3,
   "id": "adaf243d-6ed2-4a92-88de-f48f987b5698",
   "metadata": {},
   "outputs": [],
   "source": [
    "import gymnasium as gym\n",
    "import numpy as np\n",
    "import time\n",
    "import os\n",
    "import torch\n",
    "import torch.nn as nn\n",
    "import torch.optim as optim\n",
    "from torch.distributions.categorical import Categorical\n",
    "import matplotlib.pyplot as plt\n",
    "from cellitaire.environment.cellitaire_env import CellitaireEnv\n",
    "from cellitaire.environment.rewards.reward import *\n",
    "import random"
   ]
  },
  {
   "cell_type": "code",
   "execution_count": 2,
   "id": "89e42419-9836-46ff-9e6e-05cc0ba44c05",
   "metadata": {},
   "outputs": [],
   "source": [
    "board_rows = 7\n",
    "board_cols = 12\n",
    "num_reserved = 6\n",
    "test_reward = CombinedReward([\n",
    "    PlacedCardInFoundationReward(weight=6),\n",
    "    WinReward(),\n",
    "    ConstantReward(weight=0.5),\n",
    "    #PlayedLegalMoveReward(weight=1),\n",
    "    #PeriodicPlacedCardInFoundationReward(weight=4, reward_period=3),\n",
    "    CreatedMovesReward(weight=1, num_reserved=num_reserved, foundation_count_dropoff=30)\n",
    "])\n",
    "env = CellitaireEnv(test_reward, rows=board_rows, cols=board_cols, num_reserved=num_reserved, max_moves=600)"
   ]
  },
  {
   "cell_type": "code",
   "execution_count": 18,
   "id": "9cf2b262-7b62-48b9-9246-18307e8fdf6b",
   "metadata": {},
   "outputs": [],
   "source": [
    "games_to_sim = 10000\n",
    "\n",
    "rewards = []\n",
    "cards_saved = []\n",
    "game_scores = []\n",
    "move_counts = []\n",
    "\n",
    "games_played = 0\n",
    "while games_played < games_to_sim:\n",
    "    env.reset()\n",
    "    moves_played = 0\n",
    "    done = False\n",
    "    truncated = False\n",
    "    game_rewards = []\n",
    "\n",
    "    while not done and not truncated:\n",
    "        legal_actions = env.get_legal_actions_as_int()\n",
    "        action = random.choice(legal_actions)\n",
    "        _, reward, done, truncated, _ = env.step(action)\n",
    "        game_rewards.append(reward)\n",
    "        moves_played += 1\n",
    "    rewards.extend(game_rewards)\n",
    "    cards_saved.append(env.game.foundation.total_cards())\n",
    "    game_scores.append(sum(game_rewards))\n",
    "    move_counts.append(moves_played)\n",
    "    games_played += 1"
   ]
  },
  {
   "cell_type": "code",
   "execution_count": 20,
   "id": "7debc605-14bd-4c1a-9c6a-77f7af28b078",
   "metadata": {},
   "outputs": [
    {
     "name": "stdout",
     "output_type": "stream",
     "text": [
      "Average reward 2.166237351965768\n",
      "Average cards saved 7.4288\n",
      "Average game score 245.7306\n",
      "Average move count 113.4366\n"
     ]
    }
   ],
   "source": [
    "print(f'Average reward {np.mean(rewards)}')\n",
    "print(f'Average cards saved {np.mean(cards_saved)}')\n",
    "print(f'Average game score {np.mean(game_scores)}')\n",
    "print(f'Average move count {np.mean(move_counts)}')"
   ]
  },
  {
   "cell_type": "code",
   "execution_count": null,
   "id": "080db0e5-b86c-4d7c-9f14-867ce191392e",
   "metadata": {},
   "outputs": [],
   "source": []
  }
 ],
 "metadata": {
  "kernelspec": {
   "display_name": "Python 3 (ipykernel)",
   "language": "python",
   "name": "python3"
  },
  "language_info": {
   "codemirror_mode": {
    "name": "ipython",
    "version": 3
   },
   "file_extension": ".py",
   "mimetype": "text/x-python",
   "name": "python",
   "nbconvert_exporter": "python",
   "pygments_lexer": "ipython3",
   "version": "3.13.2"
  }
 },
 "nbformat": 4,
 "nbformat_minor": 5
}
