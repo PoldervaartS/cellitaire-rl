{
 "cells": [
  {
   "cell_type": "code",
   "execution_count": 1,
   "id": "5c9b6955-aaa4-4ad6-a128-8116185c710a",
   "metadata": {},
   "outputs": [],
   "source": [
    "import copy\n",
    "\n",
    "class RolloutAgent:\n",
    "    def __init__(self, agent, starting_move, env):\n",
    "        self.agent = agent\n",
    "        self.starting_move = starting_move\n",
    "        reward_copy = copy.deepcopy(env.reward)\n",
    "        game_copy = copy.deepcopy(env.game)\n",
    "        self.env = CellitaireEnv(reward_copy, rows=env.rows, cols=env.cols, num_reserved=env.num_reserved)\n",
    "        self.env.reset()\n",
    "        self.env.game = game_copy\n",
    "\n",
    "    def rollout(self):\n",
    "        observation, reward, done, _, _ = self.env.step(self.starting_move)\n",
    "        total_reward = reward\n",
    "        while not done:\n",
    "            action, _, _ = self.agent.choose_legal_action_mostly(observation, self.env.get_legal_actions_as_int())\n",
    "            observation_, reward, done, _, _ = self.env.step(action)\n",
    "            total_reward += reward\n",
    "            observation = observation_\n",
    "        return total_reward"
   ]
  },
  {
   "cell_type": "code",
   "execution_count": 2,
   "id": "36599f1e-2ed8-4ee0-b2e7-ff64f6a9c134",
   "metadata": {},
   "outputs": [],
   "source": [
    "class TreeNode:\n",
    "    def __init__(self, state, best_reward):\n",
    "        self.state = state\n",
    "        self.best_reward = -1e9\n",
    "        self.prev = None\n",
    "        self.nexts = []"
   ]
  },
  {
   "cell_type": "code",
   "execution_count": 3,
   "id": "af633486-997d-4317-a18a-e641533e74e0",
   "metadata": {},
   "outputs": [],
   "source": [
    "import torch\n",
    "import numpy as np\n",
    "\n",
    "class TreeSearch:\n",
    "    def __init__(self, agent, env, n_actions):\n",
    "        self.agent = agent\n",
    "        self.env = env\n",
    "        self.n_actions = n_actions\n",
    "\n",
    "    def make_best_move(self):\n",
    "        state = torch.tensor(np.array([self.env.get_state()]), dtype=torch.float).to(self.agent.actor.device)\n",
    "        legal_actions = self.env.get_legal_actions_as_int()\n",
    "    \n",
    "        dist = self.agent.actor(state)\n",
    "\n",
    "        mask = torch.zeros(self.n_actions).to(self.agent.actor.device)\n",
    "        mask[legal_actions] = 1\n",
    "        masked_dist = dist.probs * mask\n",
    "        legal_indices = torch.nonzero(masked_dist, as_tuple=True)[0]\n",
    "        legal_values = masked_dist[legal_indices]\n",
    "        _, sorted_order = torch.sort(legal_values, descending=True)\n",
    "        sorted_moves = legal_indices[sorted_order]\n",
    "        best_move = -1\n",
    "        best_reward = -1\n",
    "        for move in sorted_moves:\n",
    "            rollout_agent = RolloutAgent(self.agent, move, self.env)\n",
    "            rollout_reward = rollout_agent.rollout()\n",
    "            if best_reward < rollout_reward:\n",
    "                best_move = move\n",
    "                best_reward = rollout_reward\n",
    "        _, reward, done, _, _ = env.step(best_move)\n",
    "        return reward, done"
   ]
  },
  {
   "cell_type": "code",
   "execution_count": 4,
   "id": "d3ac1124-558f-4647-9c39-d0f8911015af",
   "metadata": {},
   "outputs": [
    {
     "name": "stdout",
     "output_type": "stream",
     "text": [
      "pygame 2.6.1 (SDL 2.28.4, Python 3.13.2)\n",
      "Hello from the pygame community. https://www.pygame.org/contribute.html\n"
     ]
    }
   ],
   "source": [
    "from cellitaire.environment.agents.PPOAgent import Agent\n",
    "from cellitaire.environment.cellitaire_env import CellitaireEnv\n",
    "from cellitaire.environment.rewards.reward import *\n",
    "from cellitaire.environment.rewards.foundation_rewards import *\n",
    "import numpy as np\n",
    "\n",
    "board_rows = 7\n",
    "board_cols = 12\n",
    "num_reserved = 6\n",
    "test_reward = CombinedReward([\n",
    "    #PlacedCardInFoundationReward(weight=6),\n",
    "    WinReward(weight=100, rows=board_rows, cols=board_cols),\n",
    "    #ConstantReward(weight=0.5),\n",
    "    ScalingPlacedCardInFoundationReward(weight=1, rows=board_rows, cols=board_cols),\n",
    "    #PlayedLegalMoveReward(weight=1, rows=board_rows, cols=board_cols, num_reserved = num_reserved),\n",
    "    #PeriodicPlacedCardInFoundationReward(weight=4, reward_period=3),\n",
    "    #CreatedMovesReward(weight=1, num_reserved=num_reserved, foundation_count_dropoff=30)\n",
    "])\n",
    "env = CellitaireEnv(test_reward, rows=board_rows, cols=board_cols, num_reserved=num_reserved, max_moves=1200, max_illegal_moves=1200, render_mode='human', frame_rate=0.5)\n",
    "#env = CellitaireEnv(test_reward, rows=board_rows, cols=board_cols, num_reserved=num_reserved, max_moves=1200, max_illegal_moves=1200)\n",
    "env.render()\n",
    "\n",
    "#agent = Agent(n_actions=env.action_space.n, batch_size=batch_size, \n",
    "#                alpha=alpha, n_epochs=n_epochs, \n",
    "#                input_dims=env.observation_space.shape)\n",
    "\n",
    "N = 10000\n",
    "batch_size = 2000\n",
    "n_epochs = 5\n",
    "alpha = 1e-7\n",
    "agent = Agent(n_actions=env.action_space.n, \n",
    "        input_dims=(board_rows * board_cols * 4 + 6,), batch_size=batch_size, \n",
    "                    alpha=alpha, n_epochs=n_epochs)"
   ]
  },
  {
   "cell_type": "code",
   "execution_count": 5,
   "id": "95d90b9f-1161-43ae-b1c6-21909dd0d62d",
   "metadata": {},
   "outputs": [
    {
     "name": "stdout",
     "output_type": "stream",
     "text": [
      "... loading models ...\n"
     ]
    },
    {
     "ename": "RuntimeError",
     "evalue": "CUDA error: device-side assert triggered\nCUDA kernel errors might be asynchronously reported at some other API call, so the stacktrace below might be incorrect.\nFor debugging consider passing CUDA_LAUNCH_BLOCKING=1\nCompile with `TORCH_USE_CUDA_DSA` to enable device-side assertions.\n",
     "output_type": "error",
     "traceback": [
      "\u001b[1;31m---------------------------------------------------------------------------\u001b[0m",
      "\u001b[1;31mRuntimeError\u001b[0m                              Traceback (most recent call last)",
      "Cell \u001b[1;32mIn[5], line 29\u001b[0m\n\u001b[0;32m     27\u001b[0m tree_search \u001b[38;5;241m=\u001b[39m TreeSearch(agent, env, board_rows \u001b[38;5;241m*\u001b[39m board_cols)\n\u001b[0;32m     28\u001b[0m \u001b[38;5;28;01mwhile\u001b[39;00m \u001b[38;5;129;01mnot\u001b[39;00m done:\n\u001b[1;32m---> 29\u001b[0m     reward, done \u001b[38;5;241m=\u001b[39m tree_search\u001b[38;5;241m.\u001b[39mmake_best_move()\n\u001b[0;32m     30\u001b[0m     score \u001b[38;5;241m+\u001b[39m\u001b[38;5;241m=\u001b[39m reward\n\u001b[0;32m     31\u001b[0m i \u001b[38;5;241m+\u001b[39m\u001b[38;5;241m=\u001b[39m \u001b[38;5;241m1\u001b[39m\n",
      "Cell \u001b[1;32mIn[3], line 27\u001b[0m, in \u001b[0;36mTreeSearch.make_best_move\u001b[1;34m(self)\u001b[0m\n\u001b[0;32m     25\u001b[0m \u001b[38;5;28;01mfor\u001b[39;00m move \u001b[38;5;129;01min\u001b[39;00m sorted_moves:\n\u001b[0;32m     26\u001b[0m     rollout_agent \u001b[38;5;241m=\u001b[39m RolloutAgent(\u001b[38;5;28mself\u001b[39m\u001b[38;5;241m.\u001b[39magent, move, \u001b[38;5;28mself\u001b[39m\u001b[38;5;241m.\u001b[39menv)\n\u001b[1;32m---> 27\u001b[0m     rollout_reward \u001b[38;5;241m=\u001b[39m rollout_agent\u001b[38;5;241m.\u001b[39mrollout()\n\u001b[0;32m     28\u001b[0m     \u001b[38;5;28;01mif\u001b[39;00m best_reward \u001b[38;5;241m<\u001b[39m rollout_reward:\n\u001b[0;32m     29\u001b[0m         best_move \u001b[38;5;241m=\u001b[39m move\n",
      "Cell \u001b[1;32mIn[1], line 14\u001b[0m, in \u001b[0;36mRolloutAgent.rollout\u001b[1;34m(self)\u001b[0m\n\u001b[0;32m     13\u001b[0m \u001b[38;5;28;01mdef\u001b[39;00m \u001b[38;5;21mrollout\u001b[39m(\u001b[38;5;28mself\u001b[39m):\n\u001b[1;32m---> 14\u001b[0m     observation, reward, done, _, _ \u001b[38;5;241m=\u001b[39m \u001b[38;5;28mself\u001b[39m\u001b[38;5;241m.\u001b[39menv\u001b[38;5;241m.\u001b[39mstep(\u001b[38;5;28mself\u001b[39m\u001b[38;5;241m.\u001b[39mstarting_move)\n\u001b[0;32m     15\u001b[0m     total_reward \u001b[38;5;241m=\u001b[39m reward\n\u001b[0;32m     16\u001b[0m     \u001b[38;5;28;01mwhile\u001b[39;00m \u001b[38;5;129;01mnot\u001b[39;00m done:\n",
      "File \u001b[1;32mP:\\repos\\cellitaire-rl\\src\\cellitaire\\environment\\cellitaire_env.py:118\u001b[0m, in \u001b[0;36mCellitaireEnv.step\u001b[1;34m(self, action)\u001b[0m\n\u001b[0;32m    117\u001b[0m \u001b[38;5;28;01mdef\u001b[39;00m \u001b[38;5;21mstep\u001b[39m(\u001b[38;5;28mself\u001b[39m, action):\n\u001b[1;32m--> 118\u001b[0m     move \u001b[38;5;241m=\u001b[39m \u001b[38;5;28mself\u001b[39m\u001b[38;5;241m.\u001b[39mget_action_by_index(action)\n\u001b[0;32m    119\u001b[0m     info \u001b[38;5;241m=\u001b[39m {}\n\u001b[0;32m    121\u001b[0m     move_executed \u001b[38;5;241m=\u001b[39m \u001b[38;5;28mself\u001b[39m\u001b[38;5;241m.\u001b[39mgame\u001b[38;5;241m.\u001b[39mmake_move(move)\n",
      "File \u001b[1;32mP:\\repos\\cellitaire-rl\\src\\cellitaire\\environment\\cellitaire_env.py:140\u001b[0m, in \u001b[0;36mCellitaireEnv.get_action_by_index\u001b[1;34m(self, action_index)\u001b[0m\n\u001b[0;32m    139\u001b[0m \u001b[38;5;28;01mdef\u001b[39;00m \u001b[38;5;21mget_action_by_index\u001b[39m(\u001b[38;5;28mself\u001b[39m, action_index):\n\u001b[1;32m--> 140\u001b[0m     row \u001b[38;5;241m=\u001b[39m action_index \u001b[38;5;241m/\u001b[39m\u001b[38;5;241m/\u001b[39m \u001b[38;5;28mself\u001b[39m\u001b[38;5;241m.\u001b[39mcols\n\u001b[0;32m    141\u001b[0m     col \u001b[38;5;241m=\u001b[39m action_index \u001b[38;5;241m%\u001b[39m \u001b[38;5;28mself\u001b[39m\u001b[38;5;241m.\u001b[39mcols\n\u001b[0;32m    142\u001b[0m     \u001b[38;5;28;01mreturn\u001b[39;00m (row, col)\n",
      "File \u001b[1;32m~\\miniconda3\\envs\\cellitaire-rl\\Lib\\site-packages\\torch\\_tensor.py:39\u001b[0m, in \u001b[0;36m_handle_torch_function_and_wrap_type_error_to_not_implemented.<locals>.wrapped\u001b[1;34m(*args, **kwargs)\u001b[0m\n\u001b[0;32m     37\u001b[0m     \u001b[38;5;28;01mif\u001b[39;00m has_torch_function(args):\n\u001b[0;32m     38\u001b[0m         \u001b[38;5;28;01mreturn\u001b[39;00m handle_torch_function(wrapped, args, \u001b[38;5;241m*\u001b[39margs, \u001b[38;5;241m*\u001b[39m\u001b[38;5;241m*\u001b[39mkwargs)\n\u001b[1;32m---> 39\u001b[0m     \u001b[38;5;28;01mreturn\u001b[39;00m f(\u001b[38;5;241m*\u001b[39margs, \u001b[38;5;241m*\u001b[39m\u001b[38;5;241m*\u001b[39mkwargs)\n\u001b[0;32m     40\u001b[0m \u001b[38;5;28;01mexcept\u001b[39;00m \u001b[38;5;167;01mTypeError\u001b[39;00m:\n\u001b[0;32m     41\u001b[0m     \u001b[38;5;28;01mreturn\u001b[39;00m \u001b[38;5;28mNotImplemented\u001b[39m\n",
      "File \u001b[1;32m~\\miniconda3\\envs\\cellitaire-rl\\Lib\\site-packages\\torch\\_tensor.py:1106\u001b[0m, in \u001b[0;36mTensor.__floordiv__\u001b[1;34m(self, other)\u001b[0m\n\u001b[0;32m   1104\u001b[0m \u001b[38;5;129m@_handle_torch_function_and_wrap_type_error_to_not_implemented\u001b[39m\n\u001b[0;32m   1105\u001b[0m \u001b[38;5;28;01mdef\u001b[39;00m \u001b[38;5;21m__floordiv__\u001b[39m(\u001b[38;5;28mself\u001b[39m, other):\n\u001b[1;32m-> 1106\u001b[0m     \u001b[38;5;28;01mreturn\u001b[39;00m torch\u001b[38;5;241m.\u001b[39mfloor_divide(\u001b[38;5;28mself\u001b[39m, other)\n",
      "\u001b[1;31mRuntimeError\u001b[0m: CUDA error: device-side assert triggered\nCUDA kernel errors might be asynchronously reported at some other API call, so the stacktrace below might be incorrect.\nFor debugging consider passing CUDA_LAUNCH_BLOCKING=1\nCompile with `TORCH_USE_CUDA_DSA` to enable device-side assertions.\n"
     ]
    }
   ],
   "source": [
    "best_score = -1000\n",
    "score_history = []\n",
    "max_score = 0\n",
    "episodes_without_best = 0\n",
    "\n",
    "learn_iters = 0\n",
    "avg_score = 0\n",
    "n_steps = 0\n",
    "i = 0\n",
    "while True:\n",
    "    agent.load_models()\n",
    "    env.reset()\n",
    "    seen_cards = set([slot.card.card_id for row in env.game.board.slots for slot in row if slot.has_card()])\n",
    "    seen_cards.add(env.game.stockpile.top_card().card_id)\n",
    "    observation = env.get_state()\n",
    "    done = False\n",
    "    score = 0\n",
    "    while not done:\n",
    "        seen_cards.add(env.game.stockpile.top_card().card_id)\n",
    "        if len(seen_cards) == 52:\n",
    "            break\n",
    "        action, _, _ = agent.choose_legal_action_mostly(observation, env.get_legal_actions_as_int())\n",
    "        observation_, reward, done, _, info = env.step(action)\n",
    "        score += reward\n",
    "        observation = observation_\n",
    "        \n",
    "    tree_search = TreeSearch(agent, env, board_rows * board_cols)\n",
    "    while not done:\n",
    "        reward, done = tree_search.make_best_move()\n",
    "        score += reward\n",
    "    i += 1\n",
    "    score_history.append(score)\n",
    "    avg_score = np.mean(score_history[-100:])\n",
    "    \n",
    "    max_score = max(max_score, score)\n",
    "\n",
    "    if avg_score > best_score and i > N:\n",
    "        best_score = avg_score\n",
    "        recent_std = np.std(score_history[-100:])\n",
    "        #agent.save_models()\n",
    "        episodes_without_best = 0\n",
    "        print(f'episode {i:>5} | score {score:>6.1f} | avg {avg_score:>6.1f} | std {recent_std:>6.2f} | max score {max_score:>5.1f} | learning steps {learn_iters:>5} | done {done} *')\n",
    "    else:\n",
    "        episodes_without_best += 1\n",
    "        \n",
    "    if episodes_without_best % 100 == 0 and episodes_without_best > 0:\n",
    "        recent_std = np.std(score_history[-100:])\n",
    "        print(f'episode {i:>5} | score {score:>6.1f} | avg {avg_score:>6.1f} | std {recent_std:>6.2f} | max score {max_score:>5.1f} | learning steps {learn_iters:>5} | done {done}')\n",
    "    time.sleep(8)\n",
    "    print(score)"
   ]
  },
  {
   "cell_type": "code",
   "execution_count": 5,
   "id": "2ce0550f-3bdf-4bee-bbef-6d8774ef9fc4",
   "metadata": {},
   "outputs": [
    {
     "name": "stdout",
     "output_type": "stream",
     "text": [
      "... loading models ...\n"
     ]
    }
   ],
   "source": [
    "try:\n",
    "    best_score = -1000\n",
    "    score_history = []\n",
    "    max_score = 0\n",
    "    episodes_without_best = 0\n",
    "    \n",
    "    learn_iters = 0\n",
    "    avg_score = 0\n",
    "    n_steps = 0\n",
    "    i = 0\n",
    "    while True:\n",
    "        agent.load_models()\n",
    "        env.reset()\n",
    "        seen_cards = set([slot.card.card_id for row in env.game.board.slots for slot in row if slot.has_card()])\n",
    "        seen_cards.add(env.game.stockpile.top_card().card_id)\n",
    "        observation = env.get_state()\n",
    "        done = False\n",
    "        score = 0\n",
    "        while not done:\n",
    "            seen_cards.add(env.game.stockpile.top_card().card_id)\n",
    "            if len(seen_cards) == 52:\n",
    "                break\n",
    "            action, _, _ = agent.choose_legal_action_mostly(observation, env.get_legal_actions_as_int())\n",
    "            observation_, reward, done, _, info = env.step(action)\n",
    "            score += reward\n",
    "            observation = observation_\n",
    "            \n",
    "        tree_search = TreeSearch(agent, env, board_rows * board_cols)\n",
    "        while not done:\n",
    "            reward, done = tree_search.make_best_move()\n",
    "            score += reward\n",
    "        i += 1\n",
    "        score_history.append(score)\n",
    "        avg_score = np.mean(score_history[-100:])\n",
    "        \n",
    "        max_score = max(max_score, score)\n",
    "    \n",
    "        if avg_score > best_score and i > N:\n",
    "            best_score = avg_score\n",
    "            recent_std = np.std(score_history[-100:])\n",
    "            #agent.save_models()\n",
    "            episodes_without_best = 0\n",
    "            print(f'episode {i:>5} | score {score:>6.1f} | avg {avg_score:>6.1f} | std {recent_std:>6.2f} | max score {max_score:>5.1f} | learning steps {learn_iters:>5} | done {done} *')\n",
    "        else:\n",
    "            episodes_without_best += 1\n",
    "            \n",
    "        if episodes_without_best % 100 == 0 and episodes_without_best > 0:\n",
    "            recent_std = np.std(score_history[-100:])\n",
    "            print(f'episode {i:>5} | score {score:>6.1f} | avg {avg_score:>6.1f} | std {recent_std:>6.2f} | max score {max_score:>5.1f} | learning steps {learn_iters:>5} | done {done}')\n",
    "        time.sleep(8)\n",
    "        print(score)\n",
    "except:\n",
    "    env.close()"
   ]
  },
  {
   "cell_type": "code",
   "execution_count": 28,
   "id": "e93ed99f-139b-448f-9f08-283611361799",
   "metadata": {},
   "outputs": [
    {
     "name": "stdout",
     "output_type": "stream",
     "text": [
      "tensor([-1.4257, -0.2643,  0.5285,  0.1301, -0.0746])\n",
      "tensor([0, 1, 0, 0, 1])\n"
     ]
    }
   ],
   "source": [
    "import torch as torch\n",
    "\n",
    "a = torch.randn(5)\n",
    "b = torch.randint(low=0, high=2, size=(5,))\n",
    "print(a)\n",
    "print(b)"
   ]
  },
  {
   "cell_type": "code",
   "execution_count": 29,
   "id": "4efe8283-f2c4-4b49-82a4-2588bd8c8768",
   "metadata": {},
   "outputs": [
    {
     "name": "stdout",
     "output_type": "stream",
     "text": [
      "tensor([4, 1])\n"
     ]
    }
   ],
   "source": [
    "masked_dist = a * b\n",
    "legal_indices = torch.nonzero(masked_dist, as_tuple=True)[0]\n",
    "legal_values = masked_dist[legal_indices]\n",
    "_, sorted_order = torch.sort(legal_values, descending=True)\n",
    "sorted_moves = legal_indices[sorted_order]\n",
    "print(sorted_moves)"
   ]
  },
  {
   "cell_type": "code",
   "execution_count": 16,
   "id": "6306b20f-3c20-4cb6-999d-16ea93241172",
   "metadata": {},
   "outputs": [],
   "source": [
    "env.close()"
   ]
  },
  {
   "cell_type": "code",
   "execution_count": 15,
   "id": "76bb9343-7def-4406-919a-cab76acd389b",
   "metadata": {},
   "outputs": [],
   "source": []
  },
  {
   "cell_type": "code",
   "execution_count": 16,
   "id": "dadfd9de-d457-40ef-aeb1-42af29d7a240",
   "metadata": {},
   "outputs": [
    {
     "data": {
      "text/plain": [
       "tensor([[ 0.8193],\n",
       "        [ 1.0558],\n",
       "        [-0.6669]])"
      ]
     },
     "execution_count": 16,
     "metadata": {},
     "output_type": "execute_result"
    }
   ],
   "source": [
    "filtered_values"
   ]
  },
  {
   "cell_type": "code",
   "execution_count": null,
   "id": "6f508af1-bc67-49f8-a1cd-5d9e95f54bb2",
   "metadata": {},
   "outputs": [],
   "source": []
  }
 ],
 "metadata": {
  "kernelspec": {
   "display_name": "Python 3 (ipykernel)",
   "language": "python",
   "name": "python3"
  },
  "language_info": {
   "codemirror_mode": {
    "name": "ipython",
    "version": 3
   },
   "file_extension": ".py",
   "mimetype": "text/x-python",
   "name": "python",
   "nbconvert_exporter": "python",
   "pygments_lexer": "ipython3",
   "version": "3.13.2"
  }
 },
 "nbformat": 4,
 "nbformat_minor": 5
}
