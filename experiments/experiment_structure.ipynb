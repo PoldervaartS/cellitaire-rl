{
 "cells": [
  {
   "cell_type": "markdown",
   "metadata": {},
   "source": [
    "## This is Ideally how I see the structure for the RL loop running and going.\n",
    "\n",
    "## Note: Changing the underlying `cellitaire` package will not be immediately reflected in code. You will have to restart the kernel or reload that section of the library"
   ]
  },
  {
   "cell_type": "code",
   "execution_count": 1,
   "metadata": {},
   "outputs": [],
   "source": [
    "# imports\n",
    "from cellitaire.environment.rewards.reward import ConstantReward, CombinedReward #, ValidCardReward, WinReward\n",
    "# from wherever the custom agents will be. Probably here in experiments???\n",
    "from cellitaire.environment.cellitaire_env import CellitaireEnv\n",
    "from cellitaire.environment.agents.my_dqn_implementation import MyDQNImplementation\n",
    "\n"
   ]
  },
  {
   "cell_type": "code",
   "execution_count": 2,
   "metadata": {},
   "outputs": [],
   "source": [
    "\n",
    "rewards_list = CombinedReward([(ConstantReward(), 1)])\n",
    "# , (ValidCardReward(), 1), (WinReward(), 100) These base rewards not yet written\n",
    "\n",
    "arch_config = {\n",
    "    \"layer_size\" : 256,\n",
    "    \"model_weights\": './weights/checkpoint_10000',\n",
    "    \"checkpoint_occurance\": 10000, # every 10k steps save a checkpoint of the model weights\n",
    "}\n",
    "env = CellitaireEnv({}, rewards_list)\n",
    "# the arch instantiation\n",
    "agent = MyDQNImplementation(env, arch_config)"
   ]
  },
  {
   "cell_type": "code",
   "execution_count": null,
   "metadata": {},
   "outputs": [],
   "source": [
    "agent.train()\n",
    "# this then runs the training loop for it"
   ]
  }
 ],
 "metadata": {
  "kernelspec": {
   "display_name": "cellitaire-rl",
   "language": "python",
   "name": "python3"
  },
  "language_info": {
   "codemirror_mode": {
    "name": "ipython",
    "version": 3
   },
   "file_extension": ".py",
   "mimetype": "text/x-python",
   "name": "python",
   "nbconvert_exporter": "python",
   "pygments_lexer": "ipython3",
   "version": "3.13.2"
  }
 },
 "nbformat": 4,
 "nbformat_minor": 2
}
