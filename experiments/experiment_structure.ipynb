{
 "cells": [
  {
   "cell_type": "markdown",
   "metadata": {},
   "source": [
    "## This is Ideally how I see the structure for the RL loop running and going.\n",
    "\n",
    "## Note: Changing the underlying `cellitaire` package will not be immediately reflected in code. You will have to restart the kernel or reload that section of the library"
   ]
  },
  {
   "cell_type": "code",
   "execution_count": null,
   "metadata": {},
   "outputs": [],
   "source": [
    "from cellitaire.environment.cellitaire_env import CellitaireEnv\n",
    "from cellitaire.environment.agents.PPOAgent import PPOAgent\n",
    "from cellitaire.environment.rewards.reward import *\n",
    "from cellitaire.environment.rewards.foundation_rewards import *\n",
    "import torch\n",
    "\n",
    "print(torch.cuda.is_available())"
   ]
  },
  {
   "cell_type": "code",
   "execution_count": null,
   "metadata": {},
   "outputs": [],
   "source": [
    "# Design Rewards and create base env\n",
    "reward = CombinedReward([\n",
    "    WinReward(weight=1000),\n",
    "    ScalingPlacedCardInFoundationReward()\n",
    "]\n",
    ")\n",
    "\n",
    "\n",
    "env = CellitaireEnv(reward=reward)"
   ]
  },
  {
   "cell_type": "code",
   "execution_count": null,
   "metadata": {},
   "outputs": [],
   "source": [
    "\n",
    "N = 1000\n",
    "batch_size = 1000\n",
    "n_epochs = 6\n",
    "alpha = 1e-3\n",
    "num_hidden_layers_actor=2\n",
    "hidden_dim_actor=4096\n",
    "num_hidden_layers_critic=4\n",
    "hidden_dim_critic=4096\n",
    "#embeddings_in_state_actor=1\n",
    "embeddings_in_state_actor = env.rows * env.cols + 1\n",
    "embedding_dim=30\n",
    "\n",
    "env.reset()\n",
    "\n",
    "agent = PPOAgent(\n",
    "    \n",
    "    n_actions=env.action_space.n, \n",
    "    input_dims=(env.rows * env.cols + 7,), \n",
    "    batch_size=batch_size, \n",
    "    alpha=alpha, \n",
    "    n_epochs=n_epochs,\n",
    "    num_hidden_layers_actor=num_hidden_layers_actor,\n",
    "    hidden_dim_actor=hidden_dim_actor,\n",
    "    embeddings_in_state_actor=embeddings_in_state_actor,\n",
    "    embedding_dim_actor=embedding_dim,\n",
    "    num_hidden_layers_critic=num_hidden_layers_critic,\n",
    "    hidden_dim_critic=hidden_dim_critic,\n",
    ")"
   ]
  },
  {
   "cell_type": "code",
   "execution_count": null,
   "metadata": {},
   "outputs": [],
   "source": [
    "agent.train(env, N)\n",
    "# this then runs the training loop for it"
   ]
  },
  {
   "cell_type": "code",
   "execution_count": null,
   "metadata": {},
   "outputs": [],
   "source": []
  }
 ],
 "metadata": {
  "kernelspec": {
   "display_name": "cellitaire-rl",
   "language": "python",
   "name": "python3"
  },
  "language_info": {
   "codemirror_mode": {
    "name": "ipython",
    "version": 3
   },
   "file_extension": ".py",
   "mimetype": "text/x-python",
   "name": "python",
   "nbconvert_exporter": "python",
   "pygments_lexer": "ipython3",
   "version": "3.13.2"
  }
 },
 "nbformat": 4,
 "nbformat_minor": 2
}
