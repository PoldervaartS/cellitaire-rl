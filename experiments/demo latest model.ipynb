{
 "cells": [
  {
   "cell_type": "code",
   "execution_count": 1,
   "id": "c6e36eb6-97f5-41a5-b493-aeb46e5be9e9",
   "metadata": {},
   "outputs": [
    {
     "name": "stdout",
     "output_type": "stream",
     "text": [
      "pygame 2.6.1 (SDL 2.28.4, Python 3.13.2)\n",
      "Hello from the pygame community. https://www.pygame.org/contribute.html\n"
     ]
    }
   ],
   "source": [
    "from cellitaire.environment.agents.ppo_agent.agent import Agent\n",
    "from cellitaire.environment.cellitaire_env import CellitaireEnv\n",
    "from cellitaire.environment.rewards.reward import *\n",
    "from cellitaire.environment.rewards.foundation_rewards import *\n",
    "\n",
    "board_rows = 7\n",
    "board_cols = 12\n",
    "num_reserved = 6\n",
    "test_reward = CombinedReward([\n",
    "    WinReward(weight=100, rows=board_rows, cols=board_cols),\n",
    "    ScalingPlacedCardInFoundationReward(weight=1, rows=board_rows, cols=board_cols),\n",
    "])\n",
    "checkpoint_dir = 'tmp/experiment_1'"
   ]
  },
  {
   "cell_type": "code",
   "execution_count": null,
   "id": "19c2d2b6-12a1-4b0a-a349-24512b43c369",
   "metadata": {},
   "outputs": [],
   "source": []
  },
  {
   "cell_type": "code",
   "execution_count": 2,
   "id": "331e8f93-14f2-4488-8a3c-3cdc03d07e6d",
   "metadata": {},
   "outputs": [],
   "source": [
    "import time\n",
    "import numpy as np\n",
    "\n",
    "try:\n",
    "    best_score = -1000\n",
    "    score_history = []\n",
    "    max_score = 0\n",
    "    episodes_without_best = 0\n",
    "    \n",
    "    demo_env = CellitaireEnv(reward = test_reward, config_dir = checkpoint_dir, render_mode='human', frame_rate=0.1)\n",
    "    demo_env.render()\n",
    "\n",
    "    n_actions = demo_env.action_space.n,\n",
    "    input_dims = (board_rows * board_cols * 4 + 6,)\n",
    "    \n",
    "    demo_agent = Agent(\n",
    "        n_actions = n_actions,\n",
    "        input_dims = input_dims,\n",
    "        config_dir=checkpoint_dir\n",
    "    )\n",
    "    demo_agent.load_models()\n",
    "    \n",
    "    learn_iters = 0\n",
    "    avg_score = 0\n",
    "    n_steps = 0\n",
    "    i = 0\n",
    "    while True:\n",
    "        demo_agent.load_models()\n",
    "        demo_env.reset()\n",
    "        observation = demo_env.get_state()\n",
    "        done = False\n",
    "        score = 0\n",
    "        while not done:\n",
    "            action, _, _ = demo_agent.choose_legal_action(observation, demo_env.get_legal_actions_as_int())\n",
    "            observation_, reward, done, _, info = demo_env.step(action)\n",
    "            n_steps += 1\n",
    "            score += reward\n",
    "            observation = observation_\n",
    "        i += 1\n",
    "        score_history.append(score)\n",
    "        avg_score = np.mean(score_history[-100:])\n",
    "        \n",
    "        max_score = max(max_score, score)\n",
    "        \n",
    "        if avg_score > best_score:\n",
    "            best_score = avg_score\n",
    "            recent_std = np.std(score_history[-100:])\n",
    "            #agent.save_models()\n",
    "            episodes_without_best = 0\n",
    "            print(f'episode {i:>5} | score {score:>6.1f} | avg {avg_score:>6.1f} | std {recent_std:>6.2f} | max score {max_score:>5.1f} | learning steps {learn_iters:>5} | done {done} *')\n",
    "        else:\n",
    "            episodes_without_best += 1\n",
    "            \n",
    "        if episodes_without_best % 100 == 0 and episodes_without_best > 0:\n",
    "            recent_std = np.std(score_history[-100:])\n",
    "            print(f'episode {i:>5} | score {score:>6.1f} | avg {avg_score:>6.1f} | std {recent_std:>6.2f} | max score {max_score:>5.1f} | learning steps {learn_iters:>5} | done {done}')\n",
    "        time.sleep(8)\n",
    "        print(score)\n",
    "except:\n",
    "    demo_env.close()"
   ]
  },
  {
   "cell_type": "code",
   "execution_count": 6,
   "id": "af1a1ac1-863b-4b9c-9cc3-0e3b7b8fe0b4",
   "metadata": {},
   "outputs": [],
   "source": [
    "demo_env.close()"
   ]
  },
  {
   "cell_type": "code",
   "execution_count": null,
   "id": "0cc04ae0-d642-4e5f-bc0c-e289c581e925",
   "metadata": {},
   "outputs": [],
   "source": []
  }
 ],
 "metadata": {
  "kernelspec": {
   "display_name": "Python 3 (ipykernel)",
   "language": "python",
   "name": "python3"
  },
  "language_info": {
   "codemirror_mode": {
    "name": "ipython",
    "version": 3
   },
   "file_extension": ".py",
   "mimetype": "text/x-python",
   "name": "python",
   "nbconvert_exporter": "python",
   "pygments_lexer": "ipython3",
   "version": "3.13.2"
  }
 },
 "nbformat": 4,
 "nbformat_minor": 5
}
